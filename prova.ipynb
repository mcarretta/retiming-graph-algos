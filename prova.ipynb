{
 "cells": [
  {
   "cell_type": "code",
   "execution_count": 1,
   "metadata": {},
   "outputs": [],
   "source": [
    "from RetimingGraph import RetimingGraph\n",
    "import networkx as nx"
   ]
  },
  {
   "cell_type": "code",
   "execution_count": 2,
   "metadata": {},
   "outputs": [],
   "source": [
    "v = [0, 1, 2, 3, 4, 5, 6, 7]\n",
    "d = [0, 3, 3, 3, 3, 7, 7, 7]\n",
    "e = [[0, 1], [1, 2], [1, 7], [2, 3], [2, 6], [3, 4], [3, 5], [4, 5], [5, 6], [6, 7], [7, 0]]\n",
    "w = [1, 1, 0, 1, 0, 1, 0, 0, 0, 0, 0]\n",
    "g = RetimingGraph(v, e, d, w)"
   ]
  },
  {
   "cell_type": "code",
   "execution_count": 3,
   "metadata": {},
   "outputs": [],
   "source": [
    "g.set_wd_attributes()"
   ]
  },
  {
   "cell_type": "code",
   "execution_count": 6,
   "metadata": {},
   "outputs": [
    {
     "data": {
      "text/plain": [
       "{0: {0: 0, 1: 0, 2: 3, 7: 3, 3: 6, 6: 6, 4: 9, 5: 9},\n",
       " 1: {1: 0, 2: 3, 7: 3, 3: 6, 6: 6, 0: 10, 4: 9, 5: 9},\n",
       " 2: {2: 0, 3: 3, 6: 3, 4: 6, 5: 6, 7: 10, 0: 17, 1: 17},\n",
       " 3: {3: 0, 4: 3, 5: 3, 6: 10, 7: 17, 0: 24, 1: 24, 2: 27},\n",
       " 4: {4: 0, 5: 3, 6: 10, 7: 17, 0: 24, 1: 24, 2: 27, 3: 30},\n",
       " 5: {5: 0, 6: 7, 7: 14, 0: 21, 1: 21, 2: 24, 3: 27, 4: 30},\n",
       " 6: {6: 0, 7: 7, 0: 14, 1: 14, 2: 17, 3: 20, 4: 23, 5: 23},\n",
       " 7: {7: 0, 0: 7, 1: 7, 2: 10, 3: 13, 6: 13, 4: 16, 5: 16}}"
      ]
     },
     "execution_count": 6,
     "metadata": {},
     "output_type": "execute_result"
    }
   ],
   "source": [
    "retiming = dict(nx.all_pairs_bellman_ford_path_length(g.graph, \"d(u)\"))\n",
    "retiming"
   ]
  },
  {
   "cell_type": "code",
   "execution_count": 7,
   "metadata": {},
   "outputs": [],
   "source": [
    "retiming = dict(nx.all_pairs_bellman_ford_path_length(g.graph, \"weight\"))"
   ]
  },
  {
   "cell_type": "code",
   "execution_count": 8,
   "metadata": {},
   "outputs": [
    {
     "data": {
      "text/plain": [
       "{0: {0: 0, 1: 1, 2: 2, 7: 1, 3: 3, 6: 2, 4: 4, 5: 3},\n",
       " 1: {1: 0, 2: 1, 7: 0, 3: 2, 6: 1, 0: 0, 4: 3, 5: 2},\n",
       " 2: {2: 0, 3: 1, 6: 0, 4: 2, 5: 1, 7: 0, 0: 0, 1: 1},\n",
       " 3: {3: 0, 4: 1, 5: 0, 6: 0, 7: 0, 0: 0, 1: 1, 2: 2},\n",
       " 4: {4: 0, 5: 0, 6: 0, 7: 0, 0: 0, 1: 1, 2: 2, 3: 3},\n",
       " 5: {5: 0, 6: 0, 7: 0, 0: 0, 1: 1, 2: 2, 3: 3, 4: 4},\n",
       " 6: {6: 0, 7: 0, 0: 0, 1: 1, 2: 2, 3: 3, 4: 4, 5: 3},\n",
       " 7: {7: 0, 0: 0, 1: 1, 2: 2, 3: 3, 6: 2, 4: 4, 5: 3}}"
      ]
     },
     "execution_count": 8,
     "metadata": {},
     "output_type": "execute_result"
    }
   ],
   "source": [
    "retiming\n"
   ]
  },
  {
   "cell_type": "code",
   "execution_count": 9,
   "metadata": {},
   "outputs": [
    {
     "data": {
      "text/plain": [
       "(array([[0., 1., 2., 3., 4., 3., 2., 1.],\n",
       "        [0., 0., 1., 2., 3., 2., 1., 0.],\n",
       "        [0., 1., 0., 1., 2., 1., 0., 0.],\n",
       "        [0., 1., 2., 0., 1., 0., 0., 0.],\n",
       "        [0., 1., 2., 3., 0., 0., 0., 0.],\n",
       "        [0., 1., 2., 3., 4., 0., 0., 0.],\n",
       "        [0., 1., 2., 3., 4., 3., 0., 0.],\n",
       "        [0., 1., 2., 3., 4., 3., 2., 0.]]),\n",
       " array([[ 0.,  3.,  6.,  9., 12., 16., 13., 10.],\n",
       "        [10.,  3.,  6.,  9., 12., 16., 13., 10.],\n",
       "        [17., 20.,  3.,  6.,  9., 13., 10., 17.],\n",
       "        [24., 27., 30.,  3.,  6., 10., 17., 24.],\n",
       "        [24., 27., 30., 33.,  3., 10., 17., 24.],\n",
       "        [21., 24., 27., 30., 33.,  7., 14., 21.],\n",
       "        [14., 17., 20., 23., 26., 30.,  7., 14.],\n",
       "        [ 7., 10., 13., 16., 19., 23., 20.,  7.]]))"
      ]
     },
     "execution_count": 9,
     "metadata": {},
     "output_type": "execute_result"
    }
   ],
   "source": [
    "g.wd_algorithm()"
   ]
  },
  {
   "cell_type": "code",
   "execution_count": 10,
   "metadata": {},
   "outputs": [
    {
     "name": "stdout",
     "output_type": "stream",
     "text": [
      "Feasible retiming exists {0: 1, 1: 1, 2: 0, 3: 0, 4: 0, 5: 0, 6: 1, 7: 1}\n",
      "No feasible retiming exists\n",
      "No feasible retiming exists\n",
      "Feasible retiming exists {0: 2, 1: 1, 2: 0, 3: 0, 4: 0, 5: 0, 6: 1, 7: 2}\n",
      "The minimum achievable clock period is 13.0\n"
     ]
    },
    {
     "data": {
      "image/png": "[encoded data removed]",
      "text/plain": [
       "<Figure size 432x288 with 1 Axes>"
      ]
     },
     "metadata": {},
     "output_type": "display_data"
    },
    {
     "data": {
      "text/plain": [
       "<networkx.classes.digraph.DiGraph at 0x7f93e5467460>"
      ]
     },
     "execution_count": 10,
     "metadata": {},
     "output_type": "execute_result"
    }
   ],
   "source": [
    "g.opt2_algorithm()"
   ]
  },
  {
   "cell_type": "code",
   "execution_count": null,
   "metadata": {},
   "outputs": [],
   "source": []
  }
 ],
 "metadata": {
  "kernelspec": {
   "display_name": "Python 3",
   "language": "python",
   "name": "python3"
  },
  "language_info": {
   "codemirror_mode": {
    "name": "ipython",
    "version": 3
   },
   "file_extension": ".py",
   "mimetype": "text/x-python",
   "name": "python",
   "nbconvert_exporter": "python",
   "pygments_lexer": "ipython3",
   "version": "3.8.5"
  }
 },
 "nbformat": 4,
 "nbformat_minor": 1
}
